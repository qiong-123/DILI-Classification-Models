{
 "cells": [
  {
   "cell_type": "code",
   "execution_count": null,
   "id": "7f0c1eba",
   "metadata": {},
   "outputs": [],
   "source": [
    "import pandas as pd\n",
    "from torch.utils.data import DataLoader\n",
    "from xgboost import XGBClassifier \n",
    "from sklearn.model_selection import train_test_split\n",
    "from sklearn.model_selection import GridSearchCV\n",
    "from sklearn.model_selection import cross_val_score\n",
    "from sklearn.metrics import accuracy_score, confusion_matrix, precision_score, recall_score\n",
    "from sklearn.metrics import f1_score, confusion_matrix\n",
    "from sklearn.metrics import roc_auc_score,roc_curve\n",
    "from sklearn.metrics import balanced_accuracy_score\n",
    "import matplotlib.pyplot as plt"
   ]
  },
  {
   "cell_type": "code",
   "execution_count": null,
   "id": "afcaa08d",
   "metadata": {},
   "outputs": [],
   "source": [
    "# data loading\n",
    "data = pd.read_csv(r'''D:\\A309-21-\\课题\\DILI Predict\\DILI数据+模型\\汇总-DILI\\train\\RDKit-ECFP_4data.csv''', low_memory=False)\n",
    "X = data.iloc[:,3:].values\n",
    "y = data.loc[:,'DILIst.1'].values\n",
    "# fixed random seed so that training is the same for each division, shuffle: reorder the data before splitting\n",
    "data_loader = DataLoader(dataset=data, batch_size=3, shuffle=True, num_workers=0, drop_last=False)\n",
    "dataset = data.sample(frac=1).reset_index(drop=True) \n",
    "# slicing the dataset in two\n",
    "X_train, X_test, y_train, y_test = train_test_split(X, y, stratify=y, test_size=0.2, random_state=78, shuffle=True)"
   ]
  },
  {
   "cell_type": "code",
   "execution_count": null,
   "id": "d5d2d2c3",
   "metadata": {},
   "outputs": [],
   "source": [
    "# define the hyperparameter grid to search\n",
    "param_grid = {\n",
    "    'max_depth':range(10,60,5), \n",
    "    'learning_rate':[0.0001, 0.001, 0.01, 0.1, 0.3],       \n",
    "    'n_estimators':range(80,160,5),            \n",
    "    'subsample': [0.5, 0.6, 0.7, 0.8, 0.9, 1],       \n",
    "    'gamma':[0.05, 0.1, 0.3, 0.5, 1],  \n",
    "    'reg_alpha':[0, 0.0001, 0.001, 0.01, 0.1], \n",
    "    'reg_lambda':[0, 0.0001, 0.001, 0.01, 0.1]  \n",
    "}\n",
    "XGBoost = XGBClassifier(objective='binary:logistic', booster='gbtree', random_state=78, seed=1)\n",
    "grid_search = GridSearchCV(estimator=XGBoost, param_grid=param_grid, scoring='precision_weighted', cv=5)\n",
    "# output the best parameter and the best score\n",
    "grid_search.fit(X_train, y_train)\n",
    "print(\"Best parameters: \", grid_search.best_params_)\n",
    "print(\"Best precision weighted score: \", grid_search.best_score_)\n",
    "# cross-validation\n",
    "best_XGBoost = grid_search.best_estimator_\n",
    "best_XGBoost_s = cross_val_score(best_XGBoost, X_train, y_train, cv=5, scoring=\"precision_weighted\").mean()\n",
    "print(\"Best XGBoost after GridSearch:{}\".format(best_rfc_s))\n",
    "\n",
    "# evaluation on test set\n",
    "best_XGBoost.fit(X_train, y_train)\n",
    "y_score_test = best_XGBoost.predict_proba(X_test)[:, 1] \n",
    "y_pred_test = (best_XGBoost.predict(X_test) > 0.5).astype(\"int32\")\n",
    "TN, FP, FN, TP = confusion_matrix(y_test, y_pred_test).ravel()\n",
    "SE = TP / (TP + FN)\n",
    "SP = TN / (TN + FP)\n",
    "ACC = (TP + TN) / (TP + TN + FP + FN)                    \n",
    "F1 = (TP / (2 * TP + FN + FP)) * 2\n",
    "MCC = (TP * TN - FP * FN) / ((TP + FP) * (TP + FN) * (TN + FP) * (TN + FN)) ** 0.5\n",
    "AUC = roc_auc_score(y_test, y_score_test)\n",
    "BA = balanced_accuracy_score(y_test, y_pred_test)\n",
    "LR = pd.DataFrame({'SE': [SE], 'SP': [SP], 'ACC': [ACC], 'AUC': [AUC], 'F1': [F1], 'MCC': [MCC], 'BA': [BA]})\n",
    "print(LR)\n"
   ]
  },
  {
   "cell_type": "code",
   "execution_count": null,
   "id": "2e3301bd",
   "metadata": {},
   "outputs": [],
   "source": []
  }
 ],
 "metadata": {
  "kernelspec": {
   "display_name": "Python 3 (ipykernel)",
   "language": "python",
   "name": "python3"
  },
  "language_info": {
   "codemirror_mode": {
    "name": "ipython",
    "version": 3
   },
   "file_extension": ".py",
   "mimetype": "text/x-python",
   "name": "python",
   "nbconvert_exporter": "python",
   "pygments_lexer": "ipython3",
   "version": "3.7.13"
  }
 },
 "nbformat": 4,
 "nbformat_minor": 5
}
