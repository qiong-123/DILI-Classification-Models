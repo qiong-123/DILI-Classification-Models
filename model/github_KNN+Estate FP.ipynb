{
 "cells": [
  {
   "cell_type": "code",
   "execution_count": 1,
   "id": "6b3660e8",
   "metadata": {},
   "outputs": [
    {
     "name": "stderr",
     "output_type": "stream",
     "text": [
      "C:\\Users\\DELL\\.conda\\envs\\tensorflow\\lib\\site-packages\\tqdm\\auto.py:22: TqdmWarning: IProgress not found. Please update jupyter and ipywidgets. See https://ipywidgets.readthedocs.io/en/stable/user_install.html\n",
      "  from .autonotebook import tqdm as notebook_tqdm\n"
     ]
    }
   ],
   "source": [
    "import pandas as pd\n",
    "from torch.utils.data import DataLoader\n",
    "from sklearn.neighbors import KNeighborsClassifier\n",
    "from sklearn.model_selection import train_test_split\n",
    "from sklearn.model_selection import GridSearchCV\n",
    "from sklearn.model_selection import cross_val_score\n",
    "from sklearn.metrics import accuracy_score, confusion_matrix, precision_score, recall_score\n",
    "from sklearn.metrics import f1_score, confusion_matrix\n",
    "from sklearn.metrics import roc_auc_score,roc_curve\n",
    "from sklearn.metrics import balanced_accuracy_score\n",
    "import matplotlib.pyplot as plt"
   ]
  },
  {
   "cell_type": "code",
   "execution_count": 9,
   "id": "960b3e1b",
   "metadata": {},
   "outputs": [],
   "source": [
    "# data loading\n",
    "data = pd.read_csv(r'''D:\\A309-21-\\课题\\DILI Predict\\DILI数据+模型\\汇总-DILI\\train\\Padel-Estate Fingerprinterdata.csv''', low_memory=False)\n",
    "X = data.iloc[:,3:].values\n",
    "y = data.loc[:,'DILIst.1'].values\n",
    "#data.head()\n",
    "# fixed random seed so that training is the same for each division, shuffle: reorder the data before splitting\n",
    "data_loader = DataLoader(dataset=data, batch_size = 8, shuffle=True, num_workers= 0, drop_last=False)\n",
    "dataset = data.sample(frac=1).reset_index(drop=True) \n",
    "# slicing the dataset in two\n",
    "X_train, X_test, y_train, y_test = train_test_split(X, y, stratify=y, test_size=0.2, random_state=78, shuffle=True)"
   ]
  },
  {
   "cell_type": "code",
   "execution_count": 24,
   "id": "747bb072",
   "metadata": {},
   "outputs": [
    {
     "name": "stdout",
     "output_type": "stream",
     "text": [
      "Random Forest:0.6496079318042347\n",
      "         SE        SP       ACC       AUC        F1       MCC        BA\n",
      "0  0.862559  0.355769  0.695238  0.609164  0.791304  0.252288  0.609164\n"
     ]
    }
   ],
   "source": [
    "KNN = KNeighborsClassifier(n_neighbors =22, weights = 'distance', algorithm='auto',leaf_size = 30, p = 2, metric = 'minkowski')\n",
    "# cross-validation\n",
    "KNN_s = cross_val_score(KNN, X_train, y_train, cv = 5, scoring = \"precision_weighted\").mean()\n",
    "print(\"KNN:{}\".format(KNN_s))\n",
    "KNN.fit(X_train, y_train)\n",
    "# evaluation on test set\n",
    "y_score_test = KNN.predict(X_test).tolist()  \n",
    "y_pred_test = (KNN.predict(X_test) > 0.5).astype(\"int32\")     \n",
    "TN, FP, FN, TP = confusion_matrix(y_test, y_pred_test).ravel()   \n",
    "SE = TP / (TP + FN)\n",
    "SP = TN / (TN + FP)\n",
    "ACC = (TP + TN) / (TP + TN + FP + FN)                    \n",
    "F1 = (TP / (2 * TP + FN + FP)) * 2\n",
    "MCC = (TP * TN - FP * FN) / ((TP + FP) * (TP + FN) * (TN + FP) * (TN + FN)) ** 0.5\n",
    "AUC = roc_auc_score(y_test, y_score_test)\n",
    "BA = balanced_accuracy_score(y_test, y_pred_test)\n",
    "LR = pd.DataFrame({'SE': [SE], 'SP': [SP], 'ACC': [ACC], 'AUC': [AUC], 'F1': [F1], 'MCC': [MCC], 'BA': [BA]})\n",
    "print(LR)"
   ]
  },
  {
   "cell_type": "code",
   "execution_count": null,
   "id": "59340540",
   "metadata": {},
   "outputs": [],
   "source": []
  }
 ],
 "metadata": {
  "kernelspec": {
   "display_name": "Python 3 (ipykernel)",
   "language": "python",
   "name": "python3"
  },
  "language_info": {
   "codemirror_mode": {
    "name": "ipython",
    "version": 3
   },
   "file_extension": ".py",
   "mimetype": "text/x-python",
   "name": "python",
   "nbconvert_exporter": "python",
   "pygments_lexer": "ipython3",
   "version": "3.7.13"
  }
 },
 "nbformat": 4,
 "nbformat_minor": 5
}
